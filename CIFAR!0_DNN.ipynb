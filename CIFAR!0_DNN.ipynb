{
  "nbformat": 4,
  "nbformat_minor": 0,
  "metadata": {
    "colab": {
      "provenance": []
    },
    "kernelspec": {
      "name": "python3",
      "display_name": "Python 3"
    },
    "language_info": {
      "name": "python"
    }
  },
  "cells": [
    {
      "cell_type": "code",
      "execution_count": null,
      "metadata": {
        "id": "dbQsWDVmi7hW"
      },
      "outputs": [],
      "source": [
        "#import ml libraries\n",
        "import numpy as np\n",
        "import pandas as pd\n",
        "import matplotlib.pyplot as plt\n",
        "%matplotlib inline\n",
        "import seaborn as sns\n",
        "sns.set()\n",
        "import warnings\n",
        "warnings.filterwarnings('ignore')"
      ]
    },
    {
      "cell_type": "code",
      "source": [
        "#import deeplearning packages\n",
        "import tensorflow as tf\n",
        "from tensorflow import keras\n",
        "from keras.layers import Dropout, Dense, Flatten, BatchNormalization\n",
        "from keras import Sequential\n",
        "from keras.callbacks import EarlyStopping"
      ],
      "metadata": {
        "id": "RhRRhdQ2jnj6"
      },
      "execution_count": null,
      "outputs": []
    },
    {
      "cell_type": "code",
      "source": [
        "dataset = keras.datasets.cifar10\n",
        "dataset"
      ],
      "metadata": {
        "colab": {
          "base_uri": "https://localhost:8080/"
        },
        "id": "TEdYFNs3lWyX",
        "outputId": "fe1c578e-5b96-4c7d-d2f1-d40a78f54007"
      },
      "execution_count": null,
      "outputs": [
        {
          "output_type": "execute_result",
          "data": {
            "text/plain": [
              "<module 'keras.api._v2.keras.datasets.cifar10' from '/usr/local/lib/python3.10/dist-packages/keras/api/_v2/keras/datasets/cifar10/__init__.py'>"
            ]
          },
          "metadata": {},
          "execution_count": 4
        }
      ]
    },
    {
      "cell_type": "code",
      "source": [
        "(train_images,train_labels), (test_images, test_labels)=keras.datasets.cifar10.load_data()"
      ],
      "metadata": {
        "colab": {
          "base_uri": "https://localhost:8080/"
        },
        "id": "Tgj4kf2YlrHE",
        "outputId": "be75c4ef-cb47-48fc-af57-fa7f8b5b28a7"
      },
      "execution_count": null,
      "outputs": [
        {
          "output_type": "stream",
          "name": "stdout",
          "text": [
            "Downloading data from https://www.cs.toronto.edu/~kriz/cifar-10-python.tar.gz\n",
            "170498071/170498071 [==============================] - 4s 0us/step\n"
          ]
        }
      ]
    },
    {
      "cell_type": "code",
      "source": [
        "print(train_images.shape,train_labels.shape, test_images.shape, test_labels.shape)"
      ],
      "metadata": {
        "colab": {
          "base_uri": "https://localhost:8080/"
        },
        "id": "dfOgtwr9mLF0",
        "outputId": "a094c92b-17d0-4bc7-b746-61786124272c"
      },
      "execution_count": null,
      "outputs": [
        {
          "output_type": "stream",
          "name": "stdout",
          "text": [
            "(50000, 32, 32, 3) (50000, 1) (10000, 32, 32, 3) (10000, 1)\n"
          ]
        }
      ]
    },
    {
      "cell_type": "code",
      "source": [
        "plt.figure()\n",
        "plt.imshow(train_images[1000])\n",
        "plt.colorbar()\n",
        "plt.grid()\n",
        "plt.show()"
      ],
      "metadata": {
        "colab": {
          "base_uri": "https://localhost:8080/",
          "height": 435
        },
        "id": "7cXkwdu0mXyy",
        "outputId": "b80a8f90-7645-44f6-b01a-101de4844df1"
      },
      "execution_count": null,
      "outputs": [
        {
          "output_type": "display_data",
          "data": {
            "text/plain": [
              "<Figure size 640x480 with 2 Axes>"
            ],
            "image/png": "[encoded data removed]"
          },
          "metadata": {}
        }
      ]
    },
    {
      "cell_type": "code",
      "source": [
        "\"\"\"Label\tDescription\n",
        "0\tairplane\n",
        "1\tautomobile\n",
        "2\tbird\n",
        "3\tcat\n",
        "4\tdeer\n",
        "5\tdog\n",
        "6\tfrog\n",
        "7\thorse\n",
        "8\tship\n",
        "9\ttruck\"\"\""
      ],
      "metadata": {
        "colab": {
          "base_uri": "https://localhost:8080/",
          "height": 53
        },
        "id": "ey48_On2m-Da",
        "outputId": "3c0ab18f-e121-4ecc-b06f-521f947a1fb6"
      },
      "execution_count": null,
      "outputs": [
        {
          "output_type": "execute_result",
          "data": {
            "text/plain": [
              "'Label\\tDescription\\n0\\tairplane\\n1\\tautomobile\\n2\\tbird\\n3\\tcat\\n4\\tdeer\\n5\\tdog\\n6\\tfrog\\n7\\thorse\\n8\\tship\\n9\\ttruck'"
            ],
            "application/vnd.google.colaboratory.intrinsic+json": {
              "type": "string"
            }
          },
          "metadata": {},
          "execution_count": 12
        }
      ]
    },
    {
      "cell_type": "code",
      "source": [
        "class_names = ['airplane','automobile','bird','cat','deer','dog','frog','horse','ship','truck']"
      ],
      "metadata": {
        "id": "kQ4e7a00nWgV"
      },
      "execution_count": null,
      "outputs": []
    },
    {
      "cell_type": "code",
      "source": [
        "train_labels = keras.utils.to_categorical(train_labels)\n",
        "test_labels = keras.utils.to_categorical(test_labels)"
      ],
      "metadata": {
        "id": "jwQO3Dwqub8P"
      },
      "execution_count": null,
      "outputs": []
    },
    {
      "cell_type": "code",
      "source": [
        "train_images = train_images.astype('float32')\n",
        "test_images = test_images.astype('float32')\n",
        "\n",
        "train_images /=255\n",
        "test_images /=255"
      ],
      "metadata": {
        "id": "T344SujpvpIf"
      },
      "execution_count": null,
      "outputs": []
    },
    {
      "cell_type": "code",
      "source": [
        "plt.figure(figsize = (10,10))\n",
        "for i in range(25):\n",
        "  plt.subplot(5,5,i+1)\n",
        "  plt.xticks([])\n",
        "  plt.yticks([])\n",
        "  plt.grid(False)\n",
        "  plt.imshow(train_images[i],cmap=plt.cm.binary)\n",
        "  plt.xlabel(class_names[train_labels[i]])\n",
        "plt.show()"
      ],
      "metadata": {
        "colab": {
          "base_uri": "https://localhost:8080/",
          "height": 345
        },
        "id": "na5U2trhnzI6",
        "outputId": "e30088a8-3a21-4c49-d6f4-66a89f9598cb"
      },
      "execution_count": null,
      "outputs": [
        {
          "output_type": "error",
          "ename": "TypeError",
          "evalue": "only integer scalar arrays can be converted to a scalar index",
          "traceback": [
            "\u001b[0;31m---------------------------------------------------------------------------\u001b[0m",
            "\u001b[0;31mTypeError\u001b[0m                                 Traceback (most recent call last)",
            "\u001b[0;32m<ipython-input-27-a256c623030c>\u001b[0m in \u001b[0;36m<cell line: 2>\u001b[0;34m()\u001b[0m\n\u001b[1;32m      6\u001b[0m   \u001b[0mplt\u001b[0m\u001b[0;34m.\u001b[0m\u001b[0mgrid\u001b[0m\u001b[0;34m(\u001b[0m\u001b[0;32mFalse\u001b[0m\u001b[0;34m)\u001b[0m\u001b[0;34m\u001b[0m\u001b[0;34m\u001b[0m\u001b[0m\n\u001b[1;32m      7\u001b[0m   \u001b[0mplt\u001b[0m\u001b[0;34m.\u001b[0m\u001b[0mimshow\u001b[0m\u001b[0;34m(\u001b[0m\u001b[0mtrain_images\u001b[0m\u001b[0;34m[\u001b[0m\u001b[0mi\u001b[0m\u001b[0;34m]\u001b[0m\u001b[0;34m,\u001b[0m\u001b[0mcmap\u001b[0m\u001b[0;34m=\u001b[0m\u001b[0mplt\u001b[0m\u001b[0;34m.\u001b[0m\u001b[0mcm\u001b[0m\u001b[0;34m.\u001b[0m\u001b[0mbinary\u001b[0m\u001b[0;34m)\u001b[0m\u001b[0;34m\u001b[0m\u001b[0;34m\u001b[0m\u001b[0m\n\u001b[0;32m----> 8\u001b[0;31m   \u001b[0mplt\u001b[0m\u001b[0;34m.\u001b[0m\u001b[0mxlabel\u001b[0m\u001b[0;34m(\u001b[0m\u001b[0mclass_names\u001b[0m\u001b[0;34m[\u001b[0m\u001b[0mtrain_labels\u001b[0m\u001b[0;34m[\u001b[0m\u001b[0mi\u001b[0m\u001b[0;34m]\u001b[0m\u001b[0;34m]\u001b[0m\u001b[0;34m)\u001b[0m\u001b[0;34m\u001b[0m\u001b[0;34m\u001b[0m\u001b[0m\n\u001b[0m\u001b[1;32m      9\u001b[0m \u001b[0mplt\u001b[0m\u001b[0;34m.\u001b[0m\u001b[0mshow\u001b[0m\u001b[0;34m(\u001b[0m\u001b[0;34m)\u001b[0m\u001b[0;34m\u001b[0m\u001b[0;34m\u001b[0m\u001b[0m\n",
            "\u001b[0;31mTypeError\u001b[0m: only integer scalar arrays can be converted to a scalar index"
          ]
        },
        {
          "output_type": "display_data",
          "data": {
            "text/plain": [
              "<Figure size 1000x1000 with 1 Axes>"
            ],
            "image/png": "[encoded data removed]"
          },
          "metadata": {}
        }
      ]
    },
    {
      "cell_type": "code",
      "source": [
        "model = Sequential()\n",
        "model.add(Flatten(input_shape = (32,32,3)))\n",
        "model.add(Dense(256,activation='relu'))\n",
        "model.add(Dropout(0.25))\n",
        "model.add(Dense(256,activation='relu'))\n",
        "model.add(Dropout(0.5))\n",
        "model.add(Dense(10,activation = 'softmax'))\n",
        "model.summary()"
      ],
      "metadata": {
        "colab": {
          "base_uri": "https://localhost:8080/"
        },
        "id": "0s5hJLtFp9Xd",
        "outputId": "ac52d8f8-7644-4c57-88b3-1abb3ba1ed1a"
      },
      "execution_count": null,
      "outputs": [
        {
          "output_type": "stream",
          "name": "stdout",
          "text": [
            "Model: \"sequential_2\"\n",
            "_________________________________________________________________\n",
            " Layer (type)                Output Shape              Param #   \n",
            "=================================================================\n",
            " flatten_2 (Flatten)         (None, 3072)              0         \n",
            "                                                                 \n",
            " dense_6 (Dense)             (None, 256)               786688    \n",
            "                                                                 \n",
            " dropout_4 (Dropout)         (None, 256)               0         \n",
            "                                                                 \n",
            " dense_7 (Dense)             (None, 256)               65792     \n",
            "                                                                 \n",
            " dropout_5 (Dropout)         (None, 256)               0         \n",
            "                                                                 \n",
            " dense_8 (Dense)             (None, 10)                2570      \n",
            "                                                                 \n",
            "=================================================================\n",
            "Total params: 855050 (3.26 MB)\n",
            "Trainable params: 855050 (3.26 MB)\n",
            "Non-trainable params: 0 (0.00 Byte)\n",
            "_________________________________________________________________\n"
          ]
        }
      ]
    },
    {
      "cell_type": "code",
      "source": [
        "model.compile(optimizer='adam',loss=keras.losses.categorical_crossentropy,metrics=['accuracy'])"
      ],
      "metadata": {
        "id": "-pwKBL6NsuQE"
      },
      "execution_count": null,
      "outputs": []
    },
    {
      "cell_type": "code",
      "source": [
        "callback = EarlyStopping(monitor='val_loss',min_delta =0.01,patience = 20)"
      ],
      "metadata": {
        "id": "5Dl89ecbwF1X"
      },
      "execution_count": null,
      "outputs": []
    },
    {
      "cell_type": "code",
      "source": [
        "history = model.fit(train_images, train_labels, validation_data=(test_images, test_labels), epochs=50, callbacks=callback, batch_size = 256)"
      ],
      "metadata": {
        "colab": {
          "base_uri": "https://localhost:8080/"
        },
        "id": "q8jUH_7YtlyY",
        "outputId": "8bf35bad-b1f9-47f1-9df8-c9b798b60fee"
      },
      "execution_count": null,
      "outputs": [
        {
          "output_type": "stream",
          "name": "stdout",
          "text": [
            "Epoch 1/50\n",
            "196/196 [==============================] - 7s 36ms/step - loss: 1.6397 - accuracy: 0.4098 - val_loss: 1.5821 - val_accuracy: 0.4468\n",
            "Epoch 2/50\n",
            "196/196 [==============================] - 8s 39ms/step - loss: 1.6437 - accuracy: 0.4094 - val_loss: 1.5939 - val_accuracy: 0.4319\n",
            "Epoch 3/50\n",
            "196/196 [==============================] - 7s 34ms/step - loss: 1.6491 - accuracy: 0.4063 - val_loss: 1.5819 - val_accuracy: 0.4398\n",
            "Epoch 4/50\n",
            "196/196 [==============================] - 7s 36ms/step - loss: 1.6422 - accuracy: 0.4089 - val_loss: 1.5938 - val_accuracy: 0.4396\n",
            "Epoch 5/50\n",
            "196/196 [==============================] - 7s 33ms/step - loss: 1.6376 - accuracy: 0.4101 - val_loss: 1.6001 - val_accuracy: 0.4397\n",
            "Epoch 6/50\n",
            "196/196 [==============================] - 7s 38ms/step - loss: 1.6376 - accuracy: 0.4128 - val_loss: 1.5858 - val_accuracy: 0.4378\n",
            "Epoch 7/50\n",
            "196/196 [==============================] - 6s 32ms/step - loss: 1.6385 - accuracy: 0.4107 - val_loss: 1.5895 - val_accuracy: 0.4383\n",
            "Epoch 8/50\n",
            "196/196 [==============================] - 8s 39ms/step - loss: 1.6350 - accuracy: 0.4103 - val_loss: 1.6038 - val_accuracy: 0.4283\n",
            "Epoch 9/50\n",
            "196/196 [==============================] - 8s 40ms/step - loss: 1.6303 - accuracy: 0.4148 - val_loss: 1.5973 - val_accuracy: 0.4414\n",
            "Epoch 10/50\n",
            "196/196 [==============================] - 7s 34ms/step - loss: 1.6288 - accuracy: 0.4109 - val_loss: 1.5783 - val_accuracy: 0.4452\n",
            "Epoch 11/50\n",
            "196/196 [==============================] - 8s 39ms/step - loss: 1.6293 - accuracy: 0.4118 - val_loss: 1.5811 - val_accuracy: 0.4414\n",
            "Epoch 12/50\n",
            "196/196 [==============================] - 8s 38ms/step - loss: 1.6440 - accuracy: 0.4078 - val_loss: 1.5926 - val_accuracy: 0.4380\n",
            "Epoch 13/50\n",
            "196/196 [==============================] - 8s 39ms/step - loss: 1.6349 - accuracy: 0.4113 - val_loss: 1.6141 - val_accuracy: 0.4251\n",
            "Epoch 14/50\n",
            "196/196 [==============================] - 8s 38ms/step - loss: 1.6273 - accuracy: 0.4136 - val_loss: 1.5806 - val_accuracy: 0.4449\n",
            "Epoch 15/50\n",
            "196/196 [==============================] - 6s 33ms/step - loss: 1.6313 - accuracy: 0.4120 - val_loss: 1.5670 - val_accuracy: 0.4436\n",
            "Epoch 16/50\n",
            "196/196 [==============================] - 7s 38ms/step - loss: 1.6223 - accuracy: 0.4135 - val_loss: 1.5920 - val_accuracy: 0.4405\n",
            "Epoch 17/50\n",
            "196/196 [==============================] - 7s 34ms/step - loss: 1.6306 - accuracy: 0.4133 - val_loss: 1.5747 - val_accuracy: 0.4435\n",
            "Epoch 18/50\n",
            "196/196 [==============================] - 7s 38ms/step - loss: 1.6331 - accuracy: 0.4126 - val_loss: 1.5859 - val_accuracy: 0.4398\n",
            "Epoch 19/50\n",
            "196/196 [==============================] - 7s 34ms/step - loss: 1.6272 - accuracy: 0.4156 - val_loss: 1.5797 - val_accuracy: 0.4366\n",
            "Epoch 20/50\n",
            "196/196 [==============================] - 8s 39ms/step - loss: 1.6214 - accuracy: 0.4148 - val_loss: 1.5613 - val_accuracy: 0.4551\n",
            "Epoch 21/50\n",
            "196/196 [==============================] - 7s 34ms/step - loss: 1.6238 - accuracy: 0.4147 - val_loss: 1.5840 - val_accuracy: 0.4455\n",
            "Epoch 22/50\n",
            "196/196 [==============================] - 8s 39ms/step - loss: 1.6222 - accuracy: 0.4135 - val_loss: 1.6089 - val_accuracy: 0.4312\n",
            "Epoch 23/50\n",
            "196/196 [==============================] - 8s 41ms/step - loss: 1.6290 - accuracy: 0.4141 - val_loss: 1.5839 - val_accuracy: 0.4388\n",
            "Epoch 24/50\n",
            "196/196 [==============================] - 6s 32ms/step - loss: 1.6244 - accuracy: 0.4121 - val_loss: 1.5742 - val_accuracy: 0.4410\n",
            "Epoch 25/50\n",
            "196/196 [==============================] - 8s 39ms/step - loss: 1.6245 - accuracy: 0.4145 - val_loss: 1.5903 - val_accuracy: 0.4322\n",
            "Epoch 26/50\n",
            "196/196 [==============================] - 6s 33ms/step - loss: 1.6228 - accuracy: 0.4137 - val_loss: 1.5830 - val_accuracy: 0.4448\n",
            "Epoch 27/50\n",
            "196/196 [==============================] - 8s 39ms/step - loss: 1.6187 - accuracy: 0.4189 - val_loss: 1.5900 - val_accuracy: 0.4338\n",
            "Epoch 28/50\n",
            "196/196 [==============================] - 7s 34ms/step - loss: 1.6212 - accuracy: 0.4171 - val_loss: 1.5718 - val_accuracy: 0.4530\n",
            "Epoch 29/50\n",
            "196/196 [==============================] - 8s 39ms/step - loss: 1.6236 - accuracy: 0.4148 - val_loss: 1.5929 - val_accuracy: 0.4471\n",
            "Epoch 30/50\n",
            "196/196 [==============================] - 7s 38ms/step - loss: 1.6218 - accuracy: 0.4162 - val_loss: 1.5826 - val_accuracy: 0.4425\n",
            "Epoch 31/50\n",
            "196/196 [==============================] - 7s 33ms/step - loss: 1.6211 - accuracy: 0.4152 - val_loss: 1.5790 - val_accuracy: 0.4425\n",
            "Epoch 32/50\n",
            "196/196 [==============================] - 8s 39ms/step - loss: 1.6138 - accuracy: 0.4190 - val_loss: 1.5811 - val_accuracy: 0.4365\n",
            "Epoch 33/50\n",
            "196/196 [==============================] - 6s 32ms/step - loss: 1.6166 - accuracy: 0.4169 - val_loss: 1.5912 - val_accuracy: 0.4413\n",
            "Epoch 34/50\n",
            "196/196 [==============================] - 7s 37ms/step - loss: 1.6139 - accuracy: 0.4203 - val_loss: 1.5737 - val_accuracy: 0.4430\n",
            "Epoch 35/50\n",
            "196/196 [==============================] - 7s 34ms/step - loss: 1.6128 - accuracy: 0.4157 - val_loss: 1.5894 - val_accuracy: 0.4427\n"
          ]
        }
      ]
    },
    {
      "cell_type": "code",
      "source": [],
      "metadata": {
        "id": "Qw7aZhj2wSwT"
      },
      "execution_count": null,
      "outputs": []
    }
  ]
}