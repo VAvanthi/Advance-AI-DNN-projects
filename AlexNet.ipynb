{
  "nbformat": 4,
  "nbformat_minor": 0,
  "metadata": {
    "colab": {
      "provenance": [],
      "gpuType": "T4"
    },
    "kernelspec": {
      "name": "python3",
      "display_name": "Python 3"
    },
    "language_info": {
      "name": "python"
    },
    "accelerator": "GPU"
  },
  "cells": [
    {
      "cell_type": "code",
      "execution_count": 2,
      "metadata": {
        "id": "tMswh-AZH0vQ"
      },
      "outputs": [],
      "source": [
        "!mkdir -p ~/.kaggle\n",
        "!cp kaggle.json ~/.kaggle/"
      ]
    },
    {
      "cell_type": "code",
      "source": [
        "!kaggle datasets download -d salader/dogs-vs-cats"
      ],
      "metadata": {
        "colab": {
          "base_uri": "https://localhost:8080/"
        },
        "id": "I2nOpMC8ITMu",
        "outputId": "36571ea3-afbb-4654-daf2-7d72bf33bb26"
      },
      "execution_count": 3,
      "outputs": [
        {
          "output_type": "stream",
          "name": "stdout",
          "text": [
            "Warning: Your Kaggle API key is readable by other users on this system! To fix this, you can run 'chmod 600 /root/.kaggle/kaggle.json'\n",
            "Downloading dogs-vs-cats.zip to /content\n",
            "100% 1.06G/1.06G [00:48<00:00, 23.7MB/s]\n",
            "100% 1.06G/1.06G [00:48<00:00, 23.3MB/s]\n"
          ]
        }
      ]
    },
    {
      "cell_type": "code",
      "source": [
        "import zipfile\n",
        "zip_ref = zipfile.ZipFile('/content/dogs-vs-cats.zip','r')\n",
        "zip_ref.extractall('/content')\n",
        "zip_ref.close()"
      ],
      "metadata": {
        "id": "lpgk9611ITOX"
      },
      "execution_count": 4,
      "outputs": []
    },
    {
      "cell_type": "code",
      "source": [
        "import tensorflow as tf\n",
        "from tensorflow import keras\n",
        "from keras import Sequential\n",
        "from keras.layers import Dense, Conv2D, MaxPooling2D, Flatten, BatchNormalization, Dropout"
      ],
      "metadata": {
        "id": "k2x9ETXZITS9"
      },
      "execution_count": 5,
      "outputs": []
    },
    {
      "cell_type": "code",
      "source": [
        "#generators\n",
        "train_ds= keras.utils.image_dataset_from_directory(\n",
        "    directory=\"/content/train\", labels='inferred',\n",
        "    label_mode='int', batch_size=32, image_size=(227,227))"
      ],
      "metadata": {
        "colab": {
          "base_uri": "https://localhost:8080/"
        },
        "id": "z8405bP0ITUr",
        "outputId": "239597bd-9cd3-4e97-826a-4160b90736ea"
      },
      "execution_count": 6,
      "outputs": [
        {
          "output_type": "stream",
          "name": "stdout",
          "text": [
            "Found 20000 files belonging to 2 classes.\n"
          ]
        }
      ]
    },
    {
      "cell_type": "code",
      "source": [
        "validation_ds=keras.utils.image_dataset_from_directory(\n",
        "    directory=\"/content/test\", labels='inferred',\n",
        "    label_mode='int', batch_size=32, image_size=(227,227))"
      ],
      "metadata": {
        "colab": {
          "base_uri": "https://localhost:8080/"
        },
        "id": "hz96Iq3BITZF",
        "outputId": "75eb30d2-2bd2-4cbd-d905-870b6c6b07f1"
      },
      "execution_count": 7,
      "outputs": [
        {
          "output_type": "stream",
          "name": "stdout",
          "text": [
            "Found 5000 files belonging to 2 classes.\n"
          ]
        }
      ]
    },
    {
      "cell_type": "code",
      "source": [
        "#Normalize image data\n",
        "def process(image, label):\n",
        "  image=tf.cast(image/255., tf.float32)\n",
        "  return image, label\n",
        "\n",
        "train_ds=train_ds.map(process)\n",
        "validation_ds=validation_ds.map(process)"
      ],
      "metadata": {
        "id": "yrqRa2vdITbD"
      },
      "execution_count": 8,
      "outputs": []
    },
    {
      "cell_type": "code",
      "source": [
        "#create ALexNet\n",
        "model = Sequential()\n",
        "#frist conv2d\n",
        "model.add(Conv2D(96, kernel_size=(11,11), strides=4, padding='valid', activation='relu', input_shape=(227,227,3)))\n",
        "model.add(BatchNormalization())\n",
        "#maxpooling\n",
        "model.add(MaxPooling2D(pool_size=(3,3), strides=2))\n",
        "#con2d 2nd\n",
        "model.add(Conv2D(256, kernel_size=(5,5),padding='same', activation='relu'))\n",
        "model.add(BatchNormalization())\n",
        "#maxpooling\n",
        "model.add(MaxPooling2D(pool_size=(3,3), strides=2))\n",
        "#con2d 3rd\n",
        "model.add(Conv2D(384, kernel_size=(3,3),padding='same', activation='relu'))\n",
        "model.add(BatchNormalization())\n",
        "#con2d 4\n",
        "model.add(Conv2D(384, kernel_size=(3,3), activation='relu'))\n",
        "model.add(BatchNormalization())\n",
        "#con2d 5\n",
        "model.add(Conv2D(256, kernel_size=(3,3), activation='relu'))\n",
        "model.add(BatchNormalization())\n",
        "#maxpooling\n",
        "model.add(MaxPooling2D(pool_size=(3,3), strides=2))\n",
        "\n",
        "#flatten\n",
        "model.add(Flatten())\n",
        "\n",
        "#DNN\n",
        "model.add(Dense(128, activation='relu'))\n",
        "model.add(Dense(128, activation='relu'))\n",
        "model.add(Dense(1,activation='sigmoid'))\n",
        "\n",
        "model.summary()"
      ],
      "metadata": {
        "colab": {
          "base_uri": "https://localhost:8080/"
        },
        "id": "WQ0jkCOkITfZ",
        "outputId": "b82847d4-db2c-47ba-8c07-21dd5fb68a3c"
      },
      "execution_count": 9,
      "outputs": [
        {
          "output_type": "stream",
          "name": "stdout",
          "text": [
            "Model: \"sequential\"\n",
            "_________________________________________________________________\n",
            " Layer (type)                Output Shape              Param #   \n",
            "=================================================================\n",
            " conv2d (Conv2D)             (None, 55, 55, 96)        34944     \n",
            "                                                                 \n",
            " batch_normalization (Batch  (None, 55, 55, 96)        384       \n",
            " Normalization)                                                  \n",
            "                                                                 \n",
            " max_pooling2d (MaxPooling2  (None, 27, 27, 96)        0         \n",
            " D)                                                              \n",
            "                                                                 \n",
            " conv2d_1 (Conv2D)           (None, 27, 27, 256)       614656    \n",
            "                                                                 \n",
            " batch_normalization_1 (Bat  (None, 27, 27, 256)       1024      \n",
            " chNormalization)                                                \n",
            "                                                                 \n",
            " max_pooling2d_1 (MaxPoolin  (None, 13, 13, 256)       0         \n",
            " g2D)                                                            \n",
            "                                                                 \n",
            " conv2d_2 (Conv2D)           (None, 13, 13, 384)       885120    \n",
            "                                                                 \n",
            " batch_normalization_2 (Bat  (None, 13, 13, 384)       1536      \n",
            " chNormalization)                                                \n",
            "                                                                 \n",
            " conv2d_3 (Conv2D)           (None, 11, 11, 384)       1327488   \n",
            "                                                                 \n",
            " batch_normalization_3 (Bat  (None, 11, 11, 384)       1536      \n",
            " chNormalization)                                                \n",
            "                                                                 \n",
            " conv2d_4 (Conv2D)           (None, 9, 9, 256)         884992    \n",
            "                                                                 \n",
            " batch_normalization_4 (Bat  (None, 9, 9, 256)         1024      \n",
            " chNormalization)                                                \n",
            "                                                                 \n",
            " max_pooling2d_2 (MaxPoolin  (None, 4, 4, 256)         0         \n",
            " g2D)                                                            \n",
            "                                                                 \n",
            " flatten (Flatten)           (None, 4096)              0         \n",
            "                                                                 \n",
            " dense (Dense)               (None, 128)               524416    \n",
            "                                                                 \n",
            " dense_1 (Dense)             (None, 128)               16512     \n",
            "                                                                 \n",
            " dense_2 (Dense)             (None, 1)                 129       \n",
            "                                                                 \n",
            "=================================================================\n",
            "Total params: 4293761 (16.38 MB)\n",
            "Trainable params: 4291009 (16.37 MB)\n",
            "Non-trainable params: 2752 (10.75 KB)\n",
            "_________________________________________________________________\n"
          ]
        }
      ]
    },
    {
      "cell_type": "code",
      "source": [
        "model.compile(optimizer='adam', loss='binary_crossentropy', metrics=['accuracy'])"
      ],
      "metadata": {
        "id": "tBtqe6itIThB"
      },
      "execution_count": 10,
      "outputs": []
    },
    {
      "cell_type": "code",
      "source": [
        "history = model.fit(train_ds, epochs=5, validation_data=validation_ds)"
      ],
      "metadata": {
        "colab": {
          "base_uri": "https://localhost:8080/"
        },
        "id": "7Ax25yVQITl7",
        "outputId": "8cc1aba1-8d5b-421a-d72e-a24400a4b527"
      },
      "execution_count": 11,
      "outputs": [
        {
          "output_type": "stream",
          "name": "stdout",
          "text": [
            "Epoch 1/5\n",
            "625/625 [==============================] - 52s 69ms/step - loss: 0.6538 - accuracy: 0.6402 - val_loss: 1.0948 - val_accuracy: 0.5130\n",
            "Epoch 2/5\n",
            "625/625 [==============================] - 40s 62ms/step - loss: 0.5308 - accuracy: 0.7345 - val_loss: 0.4880 - val_accuracy: 0.7598\n",
            "Epoch 3/5\n",
            "625/625 [==============================] - 39s 61ms/step - loss: 0.4217 - accuracy: 0.8041 - val_loss: 0.5964 - val_accuracy: 0.7670\n",
            "Epoch 4/5\n",
            "625/625 [==============================] - 40s 63ms/step - loss: 0.3455 - accuracy: 0.8488 - val_loss: 0.7597 - val_accuracy: 0.6176\n",
            "Epoch 5/5\n",
            "625/625 [==============================] - 43s 68ms/step - loss: 0.2961 - accuracy: 0.8728 - val_loss: 0.3660 - val_accuracy: 0.8394\n"
          ]
        }
      ]
    },
    {
      "cell_type": "code",
      "source": [],
      "metadata": {
        "id": "mvtj1oKmITnu"
      },
      "execution_count": 11,
      "outputs": []
    },
    {
      "cell_type": "code",
      "source": [],
      "metadata": {
        "id": "tDLT2KSFITrm"
      },
      "execution_count": 11,
      "outputs": []
    },
    {
      "cell_type": "code",
      "source": [],
      "metadata": {
        "id": "EqGS5yJWITtZ"
      },
      "execution_count": 11,
      "outputs": []
    }
  ]
}