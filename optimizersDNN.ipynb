{
  "nbformat": 4,
  "nbformat_minor": 0,
  "metadata": {
    "colab": {
      "provenance": [],
      "gpuType": "T4"
    },
    "kernelspec": {
      "name": "python3",
      "display_name": "Python 3"
    },
    "language_info": {
      "name": "python"
    },
    "accelerator": "GPU"
  },
  "cells": [
    {
      "cell_type": "code",
      "execution_count": 1,
      "metadata": {
        "colab": {
          "base_uri": "https://localhost:8080/"
        },
        "id": "nAX69bSy36ko",
        "outputId": "f07cf3f8-5c85-4eac-beaa-c0f168599f1a"
      },
      "outputs": [
        {
          "output_type": "stream",
          "name": "stdout",
          "text": [
            "Downloading data from https://storage.googleapis.com/tensorflow/tf-keras-datasets/mnist.npz\n",
            "11490434/11490434 [==============================] - 1s 0us/step\n"
          ]
        }
      ],
      "source": [
        "import tensorflow as tf\n",
        "from tensorflow import keras\n",
        "from keras.datasets import mnist\n",
        "from keras import Sequential\n",
        "from keras.layers import Dense, Dropout,Flatten\n",
        "\n",
        "(x_train, y_train), (x_test, y_test) = keras.datasets.mnist.load_data()\n"
      ]
    },
    {
      "cell_type": "code",
      "source": [
        "print(x_train.shape,x_test.shape)"
      ],
      "metadata": {
        "colab": {
          "base_uri": "https://localhost:8080/"
        },
        "id": "3QLH4rnu442u",
        "outputId": "1dfb1cc4-2db5-48e4-dbb3-2ed370a7b7a0"
      },
      "execution_count": 2,
      "outputs": [
        {
          "output_type": "stream",
          "name": "stdout",
          "text": [
            "(60000, 28, 28) (60000,)\n"
          ]
        }
      ]
    },
    {
      "cell_type": "code",
      "source": [
        "print(y_train.shape,y_test.shape)"
      ],
      "metadata": {
        "colab": {
          "base_uri": "https://localhost:8080/"
        },
        "id": "Ujkx552Q44yA",
        "outputId": "68fa0668-35cc-4f42-e3f9-e6ec23fea9c9"
      },
      "execution_count": 23,
      "outputs": [
        {
          "output_type": "stream",
          "name": "stdout",
          "text": [
            "(60000, 10) (10000, 10)\n"
          ]
        }
      ]
    },
    {
      "cell_type": "code",
      "source": [
        "x_train = x_train.reshape(x_train.shape[0],28,28,1)\n",
        "x_test = x_test.reshape(x_test.shape[0],28,28,1)\n"
      ],
      "metadata": {
        "id": "6alXJ3fK44sO"
      },
      "execution_count": 8,
      "outputs": []
    },
    {
      "cell_type": "code",
      "source": [
        "input_shape = (28,28,1)\n",
        "y_train = keras.utils.to_categorical(y_train)\n",
        "y_test = keras.utils.to_categorical(y_test)"
      ],
      "metadata": {
        "id": "StCrc5FI44qV"
      },
      "execution_count": 9,
      "outputs": []
    },
    {
      "cell_type": "code",
      "source": [
        "type(x_train)"
      ],
      "metadata": {
        "colab": {
          "base_uri": "https://localhost:8080/"
        },
        "id": "kuYtUuPL44lt",
        "outputId": "8feb3328-ca6c-491b-f53b-b4c82836f2bf"
      },
      "execution_count": 10,
      "outputs": [
        {
          "output_type": "execute_result",
          "data": {
            "text/plain": [
              "numpy.ndarray"
            ]
          },
          "metadata": {},
          "execution_count": 10
        }
      ]
    },
    {
      "cell_type": "code",
      "source": [
        "x_train = x_train.astype('float32')\n",
        "x_test = x_test.astype('float32')"
      ],
      "metadata": {
        "id": "W8YT_I9H44kM"
      },
      "execution_count": 11,
      "outputs": []
    },
    {
      "cell_type": "code",
      "source": [
        "x_train/=255\n",
        "x_test/=255"
      ],
      "metadata": {
        "id": "xbh5Dcqr43-Q"
      },
      "execution_count": 12,
      "outputs": []
    },
    {
      "cell_type": "code",
      "source": [
        "def build_model(optimizer):\n",
        "  model = Sequential()\n",
        "  model.add(Flatten())\n",
        "  model.add(Dense(256,activation='relu',input_shape = input_shape))\n",
        "  model.add(Dropout(0.25))\n",
        "  model.add(Dense(256,activation='relu'))\n",
        "  model.add(Dropout(0.5))\n",
        "  model.add(Dense(10,activation='softmax'))\n",
        "  model.compile(loss=keras.losses.categorical_crossentropy, optimizer = optimizer, metrics = ['accuracy'])\n",
        "  return model"
      ],
      "metadata": {
        "id": "YlLIJIF86Rfd"
      },
      "execution_count": 20,
      "outputs": []
    },
    {
      "cell_type": "code",
      "source": [
        "optimizer = ['SGD','Adadelta','Adagrad','RMSprop','Adam']\n",
        "\n",
        "#train the model\n",
        "for i in optimizer:\n",
        "  model=build_model(i)\n",
        "  history = model.fit(x_train, y_train, batch_size=64, epochs=10, verbose=1, validation_data =(x_test, y_test))\n",
        "  #history = model.fit(x_train, y_train, batch_size=32, epochs=10, verbose=1, validation_data=(x_test, y_test))"
      ],
      "metadata": {
        "colab": {
          "base_uri": "https://localhost:8080/"
        },
        "id": "xvzeq7HP7KBk",
        "outputId": "926b1b21-511e-4cff-8a88-7d42c3adbe2e"
      },
      "execution_count": 22,
      "outputs": [
        {
          "output_type": "stream",
          "name": "stdout",
          "text": [
            "Epoch 1/10\n",
            "938/938 [==============================] - 5s 5ms/step - loss: 1.1125 - accuracy: 0.6556 - val_loss: 0.4470 - val_accuracy: 0.8841\n",
            "Epoch 2/10\n",
            "938/938 [==============================] - 5s 5ms/step - loss: 0.5329 - accuracy: 0.8415 - val_loss: 0.3280 - val_accuracy: 0.9095\n",
            "Epoch 3/10\n",
            "938/938 [==============================] - 4s 5ms/step - loss: 0.4264 - accuracy: 0.8741 - val_loss: 0.2797 - val_accuracy: 0.9217\n",
            "Epoch 4/10\n",
            "938/938 [==============================] - 4s 5ms/step - loss: 0.3701 - accuracy: 0.8906 - val_loss: 0.2510 - val_accuracy: 0.9272\n",
            "Epoch 5/10\n",
            "938/938 [==============================] - 5s 5ms/step - loss: 0.3306 - accuracy: 0.9043 - val_loss: 0.2254 - val_accuracy: 0.9345\n",
            "Epoch 6/10\n",
            "938/938 [==============================] - 4s 4ms/step - loss: 0.3039 - accuracy: 0.9124 - val_loss: 0.2057 - val_accuracy: 0.9388\n",
            "Epoch 7/10\n",
            "938/938 [==============================] - 4s 5ms/step - loss: 0.2803 - accuracy: 0.9188 - val_loss: 0.1919 - val_accuracy: 0.9433\n",
            "Epoch 8/10\n",
            "938/938 [==============================] - 5s 5ms/step - loss: 0.2613 - accuracy: 0.9236 - val_loss: 0.1793 - val_accuracy: 0.9474\n",
            "Epoch 9/10\n",
            "938/938 [==============================] - 6s 6ms/step - loss: 0.2481 - accuracy: 0.9286 - val_loss: 0.1691 - val_accuracy: 0.9505\n",
            "Epoch 10/10\n",
            "938/938 [==============================] - 5s 5ms/step - loss: 0.2315 - accuracy: 0.9327 - val_loss: 0.1603 - val_accuracy: 0.9527\n",
            "Epoch 1/10\n",
            "938/938 [==============================] - 6s 5ms/step - loss: 2.3665 - accuracy: 0.1194 - val_loss: 2.2604 - val_accuracy: 0.1399\n",
            "Epoch 2/10\n",
            "938/938 [==============================] - 5s 5ms/step - loss: 2.2754 - accuracy: 0.1535 - val_loss: 2.1749 - val_accuracy: 0.2411\n",
            "Epoch 3/10\n",
            "938/938 [==============================] - 4s 4ms/step - loss: 2.1994 - accuracy: 0.1979 - val_loss: 2.0952 - val_accuracy: 0.4018\n",
            "Epoch 4/10\n",
            "938/938 [==============================] - 4s 5ms/step - loss: 2.1271 - accuracy: 0.2528 - val_loss: 2.0164 - val_accuracy: 0.5462\n",
            "Epoch 5/10\n",
            "938/938 [==============================] - 5s 5ms/step - loss: 2.0570 - accuracy: 0.3118 - val_loss: 1.9359 - val_accuracy: 0.6336\n",
            "Epoch 6/10\n",
            "938/938 [==============================] - 4s 5ms/step - loss: 1.9824 - accuracy: 0.3672 - val_loss: 1.8532 - val_accuracy: 0.6828\n",
            "Epoch 7/10\n",
            "938/938 [==============================] - 5s 5ms/step - loss: 1.9108 - accuracy: 0.4174 - val_loss: 1.7687 - val_accuracy: 0.7109\n",
            "Epoch 8/10\n",
            "938/938 [==============================] - 5s 5ms/step - loss: 1.8357 - accuracy: 0.4640 - val_loss: 1.6825 - val_accuracy: 0.7289\n",
            "Epoch 9/10\n",
            "938/938 [==============================] - 4s 4ms/step - loss: 1.7631 - accuracy: 0.4996 - val_loss: 1.5959 - val_accuracy: 0.7431\n",
            "Epoch 10/10\n",
            "938/938 [==============================] - 5s 5ms/step - loss: 1.6893 - accuracy: 0.5327 - val_loss: 1.5106 - val_accuracy: 0.7559\n",
            "Epoch 1/10\n",
            "938/938 [==============================] - 6s 5ms/step - loss: 1.8185 - accuracy: 0.4198 - val_loss: 1.1222 - val_accuracy: 0.7864\n",
            "Epoch 2/10\n",
            "938/938 [==============================] - 5s 5ms/step - loss: 1.0666 - accuracy: 0.6844 - val_loss: 0.6604 - val_accuracy: 0.8518\n",
            "Epoch 3/10\n",
            "938/938 [==============================] - 4s 4ms/step - loss: 0.7957 - accuracy: 0.7600 - val_loss: 0.5145 - val_accuracy: 0.8742\n",
            "Epoch 4/10\n",
            "938/938 [==============================] - 4s 4ms/step - loss: 0.6750 - accuracy: 0.7943 - val_loss: 0.4457 - val_accuracy: 0.8852\n",
            "Epoch 5/10\n",
            "938/938 [==============================] - 5s 5ms/step - loss: 0.6076 - accuracy: 0.8163 - val_loss: 0.4051 - val_accuracy: 0.8928\n",
            "Epoch 6/10\n",
            "938/938 [==============================] - 4s 5ms/step - loss: 0.5617 - accuracy: 0.8302 - val_loss: 0.3780 - val_accuracy: 0.8965\n",
            "Epoch 7/10\n",
            "938/938 [==============================] - 5s 5ms/step - loss: 0.5221 - accuracy: 0.8429 - val_loss: 0.3572 - val_accuracy: 0.9004\n",
            "Epoch 8/10\n",
            "938/938 [==============================] - 4s 5ms/step - loss: 0.4980 - accuracy: 0.8512 - val_loss: 0.3400 - val_accuracy: 0.9054\n",
            "Epoch 9/10\n",
            "938/938 [==============================] - 4s 5ms/step - loss: 0.4790 - accuracy: 0.8564 - val_loss: 0.3274 - val_accuracy: 0.9085\n",
            "Epoch 10/10\n",
            "938/938 [==============================] - 5s 5ms/step - loss: 0.4571 - accuracy: 0.8644 - val_loss: 0.3168 - val_accuracy: 0.9114\n",
            "Epoch 1/10\n",
            "938/938 [==============================] - 6s 5ms/step - loss: 0.3208 - accuracy: 0.9036 - val_loss: 0.1359 - val_accuracy: 0.9587\n",
            "Epoch 2/10\n",
            "938/938 [==============================] - 5s 5ms/step - loss: 0.1532 - accuracy: 0.9566 - val_loss: 0.0978 - val_accuracy: 0.9722\n",
            "Epoch 3/10\n",
            "938/938 [==============================] - 4s 4ms/step - loss: 0.1213 - accuracy: 0.9662 - val_loss: 0.0923 - val_accuracy: 0.9739\n",
            "Epoch 4/10\n",
            "938/938 [==============================] - 4s 5ms/step - loss: 0.1041 - accuracy: 0.9711 - val_loss: 0.0855 - val_accuracy: 0.9767\n",
            "Epoch 5/10\n",
            "938/938 [==============================] - 5s 6ms/step - loss: 0.0913 - accuracy: 0.9750 - val_loss: 0.0856 - val_accuracy: 0.9782\n",
            "Epoch 6/10\n",
            "938/938 [==============================] - 4s 5ms/step - loss: 0.0825 - accuracy: 0.9768 - val_loss: 0.0932 - val_accuracy: 0.9779\n",
            "Epoch 7/10\n",
            "938/938 [==============================] - 5s 5ms/step - loss: 0.0790 - accuracy: 0.9790 - val_loss: 0.0917 - val_accuracy: 0.9799\n",
            "Epoch 8/10\n",
            "938/938 [==============================] - 5s 5ms/step - loss: 0.0735 - accuracy: 0.9800 - val_loss: 0.0844 - val_accuracy: 0.9796\n",
            "Epoch 9/10\n",
            "938/938 [==============================] - 4s 4ms/step - loss: 0.0717 - accuracy: 0.9816 - val_loss: 0.0938 - val_accuracy: 0.9815\n",
            "Epoch 10/10\n",
            "938/938 [==============================] - 5s 5ms/step - loss: 0.0657 - accuracy: 0.9825 - val_loss: 0.1016 - val_accuracy: 0.9788\n",
            "Epoch 1/10\n",
            "938/938 [==============================] - 6s 5ms/step - loss: 0.3246 - accuracy: 0.9008 - val_loss: 0.1219 - val_accuracy: 0.9612\n",
            "Epoch 2/10\n",
            "938/938 [==============================] - 5s 5ms/step - loss: 0.1467 - accuracy: 0.9555 - val_loss: 0.0903 - val_accuracy: 0.9719\n",
            "Epoch 3/10\n",
            "938/938 [==============================] - 5s 5ms/step - loss: 0.1118 - accuracy: 0.9659 - val_loss: 0.0835 - val_accuracy: 0.9732\n",
            "Epoch 4/10\n",
            "938/938 [==============================] - 5s 5ms/step - loss: 0.0906 - accuracy: 0.9723 - val_loss: 0.0707 - val_accuracy: 0.9788\n",
            "Epoch 5/10\n",
            "938/938 [==============================] - 5s 5ms/step - loss: 0.0810 - accuracy: 0.9750 - val_loss: 0.0749 - val_accuracy: 0.9790\n",
            "Epoch 6/10\n",
            "938/938 [==============================] - 4s 5ms/step - loss: 0.0720 - accuracy: 0.9776 - val_loss: 0.0698 - val_accuracy: 0.9802\n",
            "Epoch 7/10\n",
            "938/938 [==============================] - 5s 5ms/step - loss: 0.0623 - accuracy: 0.9804 - val_loss: 0.0754 - val_accuracy: 0.9758\n",
            "Epoch 8/10\n",
            "938/938 [==============================] - 5s 5ms/step - loss: 0.0567 - accuracy: 0.9816 - val_loss: 0.0762 - val_accuracy: 0.9792\n",
            "Epoch 9/10\n",
            "938/938 [==============================] - 4s 4ms/step - loss: 0.0520 - accuracy: 0.9836 - val_loss: 0.0701 - val_accuracy: 0.9795\n",
            "Epoch 10/10\n",
            "938/938 [==============================] - 5s 5ms/step - loss: 0.0522 - accuracy: 0.9837 - val_loss: 0.0680 - val_accuracy: 0.9815\n"
          ]
        }
      ]
    },
    {
      "cell_type": "code",
      "source": [],
      "metadata": {
        "id": "cjtfnHU68HRi"
      },
      "execution_count": null,
      "outputs": []
    }
  ]
}